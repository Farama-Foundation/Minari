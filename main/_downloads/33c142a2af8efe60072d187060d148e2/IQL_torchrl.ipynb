{
  "cells": [
    {
      "cell_type": "code",
      "execution_count": null,
      "metadata": {
        "collapsed": false
      },
      "outputs": [],
      "source": [
        "%matplotlib inline"
      ]
    },
    {
      "cell_type": "markdown",
      "metadata": {},
      "source": [
        "\n# Implicit Q-Learning with TorchRL\n"
      ]
    },
    {
      "cell_type": "markdown",
      "metadata": {},
      "source": [
        "<img src=\"file://_static/img/tutorials/IQL_torchrl_adroit_pen_example_1.gif\" width=\"300\" align=\"right\" alt=\"Example episode 1 for Adroit Pen environment\">\n\nThis tutorial demonstrates how to use a Minari dataset in conjunction with TorchRL to train an offline RL agent. We use Implicit Q-Learning to learn how to control a 24-dof hand to manipulate a pen, learning from a dataset of just 25 human demonstrations. We will cover:\n\n- Working with Gymnasium environments in TorchRL.\n- Creating a replay buffer from a Minari dataset.\n- The basics of Implicit Q-Learning (IQL).\n- Setting up an IQL training loop and training an agent.\n\nThe IQL implementation here is based in part on the [offline IQL example script](https://github.com/pytorch/rl/blob/main/examples/iql/iql_offline.py) in TorchRL. Other offline RL algorithms are available there as well.\n\n"
      ]
    },
    {
      "cell_type": "markdown",
      "metadata": {},
      "source": [
        "## Pre-requisites\n\n"
      ]
    },
    {
      "cell_type": "markdown",
      "metadata": {},
      "source": [
        "This tutorial currently requires a recent nightly build of TorchRL:\n\n"
      ]
    },
    {
      "cell_type": "markdown",
      "metadata": {},
      "source": [
        "```bash\n! pip install torchrl\n! pip install matplotlib minari gymnasium-robotics\n```\n"
      ]
    },
    {
      "cell_type": "markdown",
      "metadata": {},
      "source": [
        "**Note:** If you run into conflicts with PyTorch when installing it, you may have to first install [PyTorch nightly](https://pytorch.org/get-started/locally/). Remember to add the \"-U\" flag to upgrade torch if it's already installed.\n\nTo confirm that everything is installed properly we import the required modules:\n\n"
      ]
    },
    {
      "cell_type": "code",
      "execution_count": null,
      "metadata": {
        "collapsed": false
      },
      "outputs": [],
      "source": [
        "import warnings\nimport matplotlib.pyplot as plt\nimport numpy as np\nimport gymnasium\nimport torch\nimport torchrl\n\nseed = 42\ntorch.manual_seed(seed)\nnp.random.seed(seed)\nwarnings.simplefilter(\"ignore\")"
      ]
    },
    {
      "cell_type": "markdown",
      "metadata": {},
      "source": [
        "## For headless environments\n\n"
      ]
    },
    {
      "cell_type": "markdown",
      "metadata": {},
      "source": [
        "If you are in a headless environment (e.g. a Google Colab notebook), you will also need to install a virtual display. First, install the prerequisites:\n\n"
      ]
    },
    {
      "cell_type": "markdown",
      "metadata": {},
      "source": [
        "```bash\n! sudo apt-get update\n! sudo apt-get install -y python3-opengl\n! apt install ffmpeg\n! apt install xvfb\n! pip install pyvirtualdisplay\n```\n"
      ]
    },
    {
      "cell_type": "markdown",
      "metadata": {},
      "source": [
        "Then restart the notebook kernel. Once the pre-requisites are installed you can start a virtual display:\n\n"
      ]
    },
    {
      "cell_type": "code",
      "execution_count": null,
      "metadata": {
        "collapsed": false
      },
      "outputs": [],
      "source": [
        "from pyvirtualdisplay import Display\n\nvirtual_display = Display(visible=0, size=(1400, 900))\nvirtual_display.start()"
      ]
    },
    {
      "cell_type": "markdown",
      "metadata": {},
      "source": [
        "## The Adroit Pen environment\n\n"
      ]
    },
    {
      "cell_type": "code",
      "execution_count": null,
      "metadata": {
        "collapsed": false
      },
      "outputs": [],
      "source": [
        "from torchrl.envs.libs.gym import GymEnv\nfrom torchrl.envs import DoubleToFloat, TransformedEnv"
      ]
    },
    {
      "cell_type": "markdown",
      "metadata": {},
      "source": [
        "We will be using the ``AdroitHandPen`` environment from [Gymnasium-Robotics](https://robotics.farama.org/envs/adroit_hand/adroit_pen/). TorchRL is designed to be agnostic to different frameworks, so instead of working with a Gymnasium environment directly we load it using the ``GymEnv`` wrapper:\n\n"
      ]
    },
    {
      "cell_type": "code",
      "execution_count": null,
      "metadata": {
        "collapsed": false
      },
      "outputs": [],
      "source": [
        "env_id = \"AdroitHandPen-v1\"\nexample_env = GymEnv(env_id, from_pixels=True, pixels_only=False)\nexample_env.set_seed(seed)"
      ]
    },
    {
      "cell_type": "markdown",
      "metadata": {},
      "source": [
        "``GymEnv`` provides the usual methods such as ``env.step()`` and ``env.reset()``. However, instead of returning a tuple of step/reset data, they return a ``TensorDict``. A tensordict is essentially a dictionary of tensors whose first axis (the batch dimension) has the same size, and share some other properties like the device they are on. The tensordict returned has fields for each type of step data (e.g. ``observations``, ``actions``, ``rewards``):\n\n"
      ]
    },
    {
      "cell_type": "code",
      "execution_count": null,
      "metadata": {
        "collapsed": false
      },
      "outputs": [],
      "source": [
        "tensordict = example_env.reset()\nprint(tensordict)"
      ]
    },
    {
      "cell_type": "markdown",
      "metadata": {},
      "source": [
        "```text\nTensorDict(\n    fields={\n        done: Tensor(shape=torch.Size([1]), device=cpu, dtype=torch.bool, is_shared=False),\n        observation: Tensor(shape=torch.Size([45]), device=cpu, dtype=torch.float64, is_shared=False),\n        pixels: Tensor(shape=torch.Size([480, 480, 3]), device=cpu, dtype=torch.uint8, is_shared=False),\n        terminated: Tensor(shape=torch.Size([1]), device=cpu, dtype=torch.bool, is_shared=False),\n        truncated: Tensor(shape=torch.Size([1]), device=cpu, dtype=torch.bool, is_shared=False)},\n    batch_size=torch.Size([]),\n    device=cpu,\n    is_shared=False)\n```\n"
      ]
    },
    {
      "cell_type": "markdown",
      "metadata": {},
      "source": [
        "\\\nTorchRL also provides ``env.rollout()`` to step through a full episode and save the step data in a tensordict:\n\n"
      ]
    },
    {
      "cell_type": "code",
      "execution_count": null,
      "metadata": {
        "collapsed": false
      },
      "outputs": [],
      "source": [
        "max_episode_steps = 1000\ntensordict = example_env.rollout(max_steps=max_episode_steps, auto_cast_to_device=True)"
      ]
    },
    {
      "cell_type": "markdown",
      "metadata": {},
      "source": [
        "\\\nWe can compute the cumulative reward by summing ``tensordict['next', 'reward']``:\n\n"
      ]
    },
    {
      "cell_type": "code",
      "execution_count": null,
      "metadata": {
        "collapsed": false
      },
      "outputs": [],
      "source": [
        "print(f\"Cumulative reward: {tensordict['next', 'reward'].sum():.2f}\")"
      ]
    },
    {
      "cell_type": "markdown",
      "metadata": {},
      "source": [
        "```text\nCumulative reward: 884.10\n```\n"
      ]
    },
    {
      "cell_type": "markdown",
      "metadata": {},
      "source": [
        "\\\nBecause we specified ``from_pixels=True`` when initialising the environment, the ``pixels`` field of the tensordict is populated with image data. Here's the first frame of that episode:\n\n"
      ]
    },
    {
      "cell_type": "code",
      "execution_count": null,
      "metadata": {
        "collapsed": false
      },
      "outputs": [],
      "source": [
        "plt.imshow(tensordict[\"pixels\"][0].numpy());"
      ]
    },
    {
      "cell_type": "markdown",
      "metadata": {},
      "source": [
        "<img src=\"file://_static/img/tutorials/IQL_torchrl_first_frame.png\" width=\"350\" alt=\"First frame of AdroitHandPen environment\">\n\n"
      ]
    },
    {
      "cell_type": "markdown",
      "metadata": {},
      "source": [
        "The aim of the [Adroit Pen task](https://robotics.farama.org/envs/adroit_hand/adroit_pen/) is to control the 24-dof hand to manipulate the blue pen from the initial configuration (shown above) to the goal configuration (green pen). There is a shaped dense reward which quantifies how close the pen is to the target configuration, which is randomised at the start of each episode.\n\n"
      ]
    },
    {
      "cell_type": "markdown",
      "metadata": {},
      "source": [
        "To use this environment for training, we need to perform some pre-processing transforms on the step data returned. We transform the base environment with ``DoubleToFloat()``, which converts all doubles in the observations to floats:\n\n"
      ]
    },
    {
      "cell_type": "code",
      "execution_count": null,
      "metadata": {
        "collapsed": false
      },
      "outputs": [],
      "source": [
        "device = torch.device(\"cuda\" if torch.cuda.is_available() else \"cpu\")\n\nbase_env = GymEnv(env_id, device=device)\nenv = TransformedEnv(base_env, DoubleToFloat())\nenv.set_seed(seed)"
      ]
    },
    {
      "cell_type": "markdown",
      "metadata": {},
      "source": [
        "## Building a replay buffer\n\n"
      ]
    },
    {
      "cell_type": "markdown",
      "metadata": {},
      "source": [
        "The Minari dataset we will be using is [D4RL/pen/human-v2](https://minari.farama.org/main/datasets/pen/human/), which consists of 25 human demonstrations. We can create a replay buffer using ``MinariExperienceReplay()``:\n\n"
      ]
    },
    {
      "cell_type": "code",
      "execution_count": null,
      "metadata": {
        "collapsed": false
      },
      "outputs": [],
      "source": [
        "from torchrl.data.datasets.minari_data import MinariExperienceReplay\nfrom torchrl.data.replay_buffers import SamplerWithoutReplacement\n\ndataset_id = \"D4RL/pen/human-v2\"\nbatch_size = 256\n\nreplay_buffer = MinariExperienceReplay(\n    dataset_id,\n    split_trajs=False,\n    batch_size=batch_size,\n    sampler=SamplerWithoutReplacement(),\n    transform=DoubleToFloat(),\n)"
      ]
    },
    {
      "cell_type": "markdown",
      "metadata": {},
      "source": [
        "**Note:** We add the transform ``DoubleToFloat()`` so that the step data is consistent with our environment.\n\nOn the first run, the dataset will be downloaded from Farama servers and stored in the local cache directory (e.g. ``~/.cache/torchrl/minari/``). Once the dataset is loaded we can iterate over the replay buffer or use ``replay_buffer.sample()`` to load batches of transitions.\n\n"
      ]
    },
    {
      "cell_type": "markdown",
      "metadata": {},
      "source": [
        "## Implicit Q-Learning\n\n"
      ]
    },
    {
      "cell_type": "markdown",
      "metadata": {},
      "source": [
        "For completeness, we give a quick overview of [Implicit Q-Learning (IQL)](https://arxiv.org/abs/2110.06169) and how it tries to tackle some of the challenges of offline RL. Those who are familiar with IQL or are only interested in the practical implementation can skip to the next section: `label-defining_the_model`.\n\nThe main challenge in offline RL is **distribution shift**: Function approximators (e.g. for the Q-function) are trained on one distribution of data, the offline dataset, but are evaluated on another distribution, that of the newly trained policy. When evaluating state-action pairs well outside of the original distribution, they may extrapolate poorly, resulting in a policy that performs well on the dataset but poorly in practice. To make this more precise, consider an offline dataset $\\mathcal{D} = \\{(s_t, a_t, r_t, s_{t+1}), \\dots\\}$. A standard starting point for offline RL algorithms is minimising the temporal difference error, by optimizing the objective\n\n\\begin{align}L_{\\rm TD}(\\theta) = \\mathbb{E}_{(s, a, s') \\sim \\mathcal{D}} \\left[ \\left( r(s, a) + \\gamma \\max_{a'} Q_{\\hat{\\theta}}(s', a') - Q_\\theta(s, a) \\right)^2 \\right]\\end{align}\n\n\n.. figure:: /_static/img/tutorials/IQL_torchrl_expectile_example.png\n   :width: 250\n   :figwidth: 300\n   :align: right\n\n   Expectiles of an example conditional distribution $y \\sim m_\\tau(s)$. For $\\tau = 0.5$ the expectile is the mean while for $\\tau \\approx 1$ it approximates the maximum of the distribution [(Kostrikov et al 2021)](https://arxiv.org/abs/2110.06169).\n\nwhere $Q_{\\hat{\\theta}}$ is a target network, a lagged copy of $Q_{\\theta}$. Using the Q-function, one can then define a policy by $\\pi(s) \\equiv \\arg\\max_a Q_\\theta(s, a)$. However, this objective $L_{\\rm TD}$ requires evaluating the value of next actions $a'$ that may not be in the dataset. If $Q_{\\hat{\\theta}}(s', a')$ overestimates the value of the state-action $(s', a')$, the resulting arg-max policy may be overconfident. It is therefore important to limit overestimation of the values of out-of-distribution actions.\n\n[Implicit Q-Learning](https://arxiv.org/abs/2110.06169) attempts to avoid this issue by never querying out-of-distribution state-action values $Q(s', a')$. Instead of arg-maxing over $Q(s', a')$, IQL introduces a value function $V_\\psi(s)$ which estimates the **expectile** of the state value function, an estimate of the maximum Q-value over actions that are in the support of the dataset distribution. We can fit $V_\\psi(s)$ using the objective\n\n\\begin{align}L_V(\\psi) = \\mathbb{E}_{(s, a) \\sim \\mathcal{D}} \\left[ L_2^\\tau (Q_{\\hat{\\theta}}(s, a) - V_\\psi(s)) \\right]\\end{align}\n\nwhere $L_2^\\tau(u) \\equiv \\left| \\tau - \\mathbb{1}(u < 0) \\right| u^2$. This specific choice of objective fits $V_\\psi(s)$ to the expectile of the state-action value function with respect to the dataset action distribution. See the figure to the right for an example of some expectiles for different values of $\\tau$.\n\nWe then use $V_\\psi(s)$ to update the Q-function:\n\n\\begin{align}L_Q(\\theta) = \\mathbb{E}_{(s, a, s') \\sim \\mathcal{D}} \\left[ \\left( r(s, a) + \\gamma V_\\psi(s') - Q_\\theta(s, a) \\right)^2 \\right].\\end{align}\n\nThis is the same as the original TD error objective $L_{\\rm TD}(\\theta)$, except we use $V_\\psi(s')$ instead of trying to maximise $Q(s', a')$. Once trained, this provides us with a Q-function which implicitly defines the policy. To extract the explicit policy, IQL uses advantage-weighted behavioural cloning:\n\n\\begin{align}L_\\pi(\\phi) = \\mathbb{E}_{(s, a) \\sim \\mathcal{D}} \\left[ e^{\\beta(Q_{\\hat{\\theta}}(s, a) - V_\\psi(s))} \\log \\pi_\\phi(a | s) \\right].\\end{align}\n\nThe hyperparameter $\\beta$ controls the influence of the advantage $A(s, a) \\equiv Q_{\\hat{\\theta}}(s, a) - V_\\psi(s)$. For small values of $\\beta$, the objective $L_\\pi(\\phi)$ behaves similarly to standard behavioral cloning, while for larger values, it attempts to recover the maximum of the Q-function.\n\nIn summary, IQL defines the following networks:\n\n- A state value function $V_\\psi(s)$ that quantifies the value of the best action within the support of the dataset.\n- A state-action value function $Q_\\theta(s, a)$ (and a target network $Q_{\\hat{\\theta}}(s, a)$).\n- A policy $\\pi_\\phi(a | s)$.\n\nWe can update all of these networks together by optimizing the total objective $\\ell = L_V(\\psi) + L_Q(\\theta) + L_\\pi(\\phi)$ using gradient descent.\n\n**Note:** The IQL implementation here is designed to be simple, rather than a benchmarkable implementation. For an implementation that accurately reproduces benchmark scores, see e.g. [CORL](https://github.com/corl-team/CORL).\n\n"
      ]
    },
    {
      "cell_type": "markdown",
      "metadata": {},
      "source": [
        "\n## Defining the model\n\n"
      ]
    },
    {
      "cell_type": "code",
      "execution_count": null,
      "metadata": {
        "collapsed": false
      },
      "outputs": [],
      "source": [
        "from tensordict.nn import TensorDictModule\nfrom tensordict.nn.distributions import NormalParamExtractor\nfrom torchrl.envs.utils import ExplorationType, set_exploration_type\nfrom torchrl.modules import MLP, ProbabilisticActor, TanhNormal, ValueOperator\nfrom torchrl.objectives import IQLLoss, SoftUpdate\nfrom torchrl.trainers.helpers.models import ACTIVATIONS"
      ]
    },
    {
      "cell_type": "markdown",
      "metadata": {},
      "source": [
        "We first initialise the value network $V_\\psi(s)$ which estimates the expectile of the value of a state $s$ with respect to the distribution of actions in the dataset. TorchRL provides a ``MLP`` convenience class which we use to build a two layer Multi-Layer Perceptron. To plug this MLP into the rest of the network, we specify that the inputs are read from the ``\"observation\"`` and ``\"action\"`` keys of the input tensordict (and concatenated, by default), and the output of the MLP is written to the ``\"state_value\"`` key:\n\n"
      ]
    },
    {
      "cell_type": "code",
      "execution_count": null,
      "metadata": {
        "collapsed": false
      },
      "outputs": [],
      "source": [
        "hidden_sizes = [128, 128]\nactivation_fn = ACTIVATIONS[\"relu\"]\n\n# MLP network\nvalue_net = MLP(\n    num_cells=hidden_sizes,\n    out_features=1,\n    activation_class=activation_fn,\n)\n\n# Specify the keys to read/write from the tensordict\nvalue_net = ValueOperator(\n    in_keys=[\"observation\"],\n    out_keys=[\"state_value\"],\n    module=value_net,\n)"
      ]
    },
    {
      "cell_type": "markdown",
      "metadata": {},
      "source": [
        "We similarly initialise the action-value network $Q_{\\theta}(s, a)$,\n\n"
      ]
    },
    {
      "cell_type": "code",
      "execution_count": null,
      "metadata": {
        "collapsed": false
      },
      "outputs": [],
      "source": [
        "q_net = MLP(\n    num_cells=hidden_sizes,\n    out_features=1,\n    activation_class=activation_fn,\n)\n\nqvalue = ValueOperator(\n    in_keys=[\"observation\", \"action\"],\n    out_keys=[\"state_action_value\"],\n    module=q_net\n)"
      ]
    },
    {
      "cell_type": "markdown",
      "metadata": {},
      "source": [
        "Finally, we initialise the policy/actor $\\pi_\\phi(a | s)$, representing the policy as a tanh-Normal distribution parameterised by location and scale. There are three steps in setting up the actor:\n\n- Create an MLP network (as before).\n- Map the MLP outputs to \"location\" and \"scale\" parameters, in particular so that the \"scale\" output is strictly positive.\n- Wrap it with the ``ProbabilisticActor`` class, specifying the distribution type.\n\nThe ``ProbabilisticActor`` class provides a convenient way to work with RL policies. By passing it the ``action_spec`` of the environment, it will also ensure that the outputs respect the bounds of the action space -- that every policy output is a valid action.\n\n"
      ]
    },
    {
      "cell_type": "code",
      "execution_count": null,
      "metadata": {
        "collapsed": false
      },
      "outputs": [],
      "source": [
        "action_spec = env.action_spec\n\n# Actor/policy MLP\nactor_mlp = MLP(\n    num_cells=hidden_sizes,\n    out_features=2 * action_spec.shape[-1],\n    activation_class=activation_fn,\n)\n\n# Map MLP output to location and scale parameters (the latter must be positive)\nactor_extractor = NormalParamExtractor(scale_lb=0.1)\nactor_net = torch.nn.Sequential(actor_mlp, actor_extractor)\n\n# Specify tensordict inputs and outputs\nactor_module = TensorDictModule(\n    actor_net,\n    in_keys=[\"observation\"],\n    out_keys=[\"loc\", \"scale\"]\n)\n\n# Use ProbabilisticActor to map it to the correct action space\nactor = ProbabilisticActor(\n    module=actor_module,\n    in_keys=[\"loc\", \"scale\"],\n    spec=action_spec,\n    distribution_class=TanhNormal,\n    distribution_kwargs={\n        \"min\": action_spec.space.low,\n        \"max\": action_spec.space.high,\n        \"tanh_loc\": False,\n    },\n    default_interaction_type=ExplorationType.DETERMINISTIC,\n)"
      ]
    },
    {
      "cell_type": "markdown",
      "metadata": {},
      "source": [
        "For convenience, we gather the actor and value functions into a single \"model\":\n\n"
      ]
    },
    {
      "cell_type": "code",
      "execution_count": null,
      "metadata": {
        "collapsed": false
      },
      "outputs": [],
      "source": [
        "model = torch.nn.ModuleList([actor, qvalue, value_net]).to(device)"
      ]
    },
    {
      "cell_type": "markdown",
      "metadata": {},
      "source": [
        "Under the hood, ``MLP()`` uses [LazyLinear](https://pytorch.org/docs/stable/generated/torch.nn.LazyLinear.html) layers, whose shape is inferred during the first pass. Later methods need a fixed shape, so we forward some random data through the network to initialise the Lazy modules:\n\n"
      ]
    },
    {
      "cell_type": "code",
      "execution_count": null,
      "metadata": {
        "collapsed": false
      },
      "outputs": [],
      "source": [
        "with torch.no_grad(), set_exploration_type(ExplorationType.RANDOM):\n    tensordict = env.reset().to(device)\n\n    for net in model:\n        net(tensordict)"
      ]
    },
    {
      "cell_type": "markdown",
      "metadata": {},
      "source": [
        "## Loss and optimizer\n\n"
      ]
    },
    {
      "cell_type": "markdown",
      "metadata": {},
      "source": [
        "The explicit details of the Implicit Q-Learning losses are captured by TorchRL's ``IQLLoss`` module:\n\n"
      ]
    },
    {
      "cell_type": "code",
      "execution_count": null,
      "metadata": {
        "collapsed": false
      },
      "outputs": [],
      "source": [
        "loss_module = IQLLoss(\n    model[0],\n    model[1],\n    value_network=model[2],\n    loss_function=\"l2\",\n    temperature=3,\n    expectile=0.7,\n)\nloss_module.make_value_estimator(gamma=0.99)"
      ]
    },
    {
      "cell_type": "markdown",
      "metadata": {},
      "source": [
        "IQL uses \"soft updates\" for the target network $Q_{\\hat{\\theta}}(s, a)$. The target network parameters are slowly updated in the direction of $Q_{\\theta}(s, a)$ at each iteration via Polyak averaging $\\hat{\\theta} \\leftarrow \\tau \\,\\theta + (1 - \\tau) \\, \\hat{\\theta}$,\n\n"
      ]
    },
    {
      "cell_type": "code",
      "execution_count": null,
      "metadata": {
        "collapsed": false
      },
      "outputs": [],
      "source": [
        "target_net_updater = SoftUpdate(loss_module, tau=0.005)"
      ]
    },
    {
      "cell_type": "markdown",
      "metadata": {},
      "source": [
        "We optimize all of the networks using Adam:\n\n"
      ]
    },
    {
      "cell_type": "code",
      "execution_count": null,
      "metadata": {
        "collapsed": false
      },
      "outputs": [],
      "source": [
        "optimizer = torch.optim.Adam(loss_module.parameters(), lr=0.0003)"
      ]
    },
    {
      "cell_type": "markdown",
      "metadata": {},
      "source": [
        "## Training\n\n"
      ]
    },
    {
      "cell_type": "markdown",
      "metadata": {},
      "source": [
        "To demonstrate training, we run IQL for 50,000 iterations. During training, we will evaluate the policy every 1000 iterations. But note that this is for evaluation purposes only. Unlike online RL, we do not collect new data during training.\n\n"
      ]
    },
    {
      "cell_type": "code",
      "execution_count": null,
      "metadata": {
        "collapsed": false
      },
      "outputs": [],
      "source": [
        "@torch.no_grad()\ndef evaluate_policy(env, policy, num_eval_episodes=20):\n    \"\"\"Calculate the mean cumulative reward over multiple episodes.\"\"\"\n    episode_rewards = []\n\n    for _ in range(num_eval_episodes):\n        eval_td = env.rollout(max_steps=max_episode_steps, policy=policy, auto_cast_to_device=True)\n        episode_rewards.append(eval_td[\"next\", \"reward\"].sum().item())\n\n    return np.mean(episode_rewards)"
      ]
    },
    {
      "cell_type": "markdown",
      "metadata": {},
      "source": [
        "The training loop is essentially the standard PyTorch gradient descent loop:\n\n1. Sample a batch of transitions from the dataset $\\mathcal{D}$.\n2. Compute the loss $\\ell = L_V(\\psi) + L_Q(\\theta) + L_\\pi(\\phi)$.\n3. Backpropagate the gradients and update the networks, including the target Q-network.\n\n"
      ]
    },
    {
      "cell_type": "code",
      "execution_count": null,
      "metadata": {
        "collapsed": false
      },
      "outputs": [],
      "source": [
        "from tqdm.auto import tqdm\n\niterations = 10_000  # Set to 50_000 to reproduce the results below\neval_interval = 1_000\n\nloss_logs = []\neval_reward_logs = []\npbar = tqdm(range(iterations))\n\nfor i in pbar:\n    # 1) Sample data from the dataset\n    data = replay_buffer.sample()\n\n    # 2) Compute loss l = L_V + L_Q + L_pi\n    loss_dict = loss_module(data.to(device))\n    loss = loss_dict[\"loss_value\"] + loss_dict[\"loss_qvalue\"] + loss_dict[\"loss_actor\"]\n    loss_logs.append(loss.item())\n\n    # 3) Backpropagate the gradients\n    optimizer.zero_grad()\n    loss.backward()\n    optimizer.step()  # Update V(s), Q(a, s), pi(a|s)\n    target_net_updater.step()  # Update the target Q-network\n\n    # Evaluate the policy\n    if i % eval_interval == 0:\n        eval_reward_logs.append(evaluate_policy(env, model[0]))\n        pbar.set_description(\n            f\"Loss: {loss_logs[-1]:.1f}, Avg return: {eval_reward_logs[-1]:.1f}\"\n        )\n\npbar.close()"
      ]
    },
    {
      "cell_type": "markdown",
      "metadata": {},
      "source": [
        "\\\nWe can plot the loss and episodic return:\n\n"
      ]
    },
    {
      "cell_type": "code",
      "execution_count": null,
      "metadata": {
        "collapsed": false
      },
      "outputs": [],
      "source": [
        "fig, axes = plt.subplots(nrows=1, ncols=2, figsize=(7, 3))\naxes[0].plot(loss_logs)\naxes[0].set_title(\"Loss\")\naxes[0].set_xlabel(\"iterations\")\naxes[1].plot(eval_interval * np.arange(len(eval_reward_logs)), eval_reward_logs)\naxes[1].set_title(\"Cumulative reward\")\naxes[1].set_xlabel(\"iterations\")\nfig.tight_layout()\nplt.show()"
      ]
    },
    {
      "cell_type": "markdown",
      "metadata": {},
      "source": [
        "<img src=\"file://_static/img/tutorials/IQL_torchrl_training_graphs.png\" width=\"100%\" align=\"center\" alt=\"Loss and eval reward during training\">\n\n"
      ]
    },
    {
      "cell_type": "markdown",
      "metadata": {},
      "source": [
        "## Results\n\n"
      ]
    },
    {
      "cell_type": "code",
      "execution_count": null,
      "metadata": {
        "collapsed": false
      },
      "outputs": [],
      "source": [
        "from IPython.display import HTML\nfrom gymnasium.utils.save_video import save_video\nfrom base64 import b64encode"
      ]
    },
    {
      "cell_type": "markdown",
      "metadata": {},
      "source": [
        "Evaluated over 100 episodes, the final performance is:\n\n"
      ]
    },
    {
      "cell_type": "code",
      "execution_count": null,
      "metadata": {
        "collapsed": false
      },
      "outputs": [],
      "source": [
        "final_score = evaluate_policy(env, model[0], num_eval_episodes=100)\nprint(f\"Cumulative reward (averaged over 100 episodes): {final_score:.2f}\")"
      ]
    },
    {
      "cell_type": "markdown",
      "metadata": {},
      "source": [
        "```text\nCumulative reward (averaged over 100 episodes): 1872.69\n```\n"
      ]
    },
    {
      "cell_type": "markdown",
      "metadata": {},
      "source": [
        "\\\nTo visualise its performance, we can roll out a single episode and render the result as a video:\n\n"
      ]
    },
    {
      "cell_type": "code",
      "execution_count": null,
      "metadata": {
        "collapsed": false
      },
      "outputs": [],
      "source": [
        "viewer_env = TransformedEnv(\n    GymEnv(env_id, from_pixels=True, pixels_only=False),\n    DoubleToFloat()\n)\nviewer_env.set_seed(seed)\n\ntensordict = viewer_env.rollout(max_steps=max_episode_steps, policy=model[0], auto_cast_to_device=True)\nprint(f\"Cumulative reward: {tensordict['next', 'reward'].sum():.2f}\")\n\nframes = list(tensordict[\"pixels\"].numpy())\nsave_video(frames, video_folder=\"results_video\", fps=30)\n\n# Display the video. Embedding is necessary for Google Colab etc\nmp4 = open(\"results_video/rl-video-episode-0.mp4\", \"rb\").read()\ndata_url = \"data:video/mp4;base64,\" + b64encode(mp4).decode()\nHTML(\"\"\"\n<video controls style='margin: auto; display: block'>\n    <source src='%s' type='video/mp4'>\n</video>\n\"\"\" % data_url)"
      ]
    },
    {
      "cell_type": "markdown",
      "metadata": {},
      "source": [
        "Here are some examples of our trained agent:\n\n<img src=\"file://_static/img/tutorials/IQL_torchrl_adroit_pen_example_1.gif\" width=\"32%\" alt=\"Example episode 1 for Adroit Pen environment\">\n\n<img src=\"file://_static/img/tutorials/IQL_torchrl_adroit_pen_example_2.gif\" width=\"32%\" alt=\"Example episode 2 for Adroit Pen environment\">\n\n<img src=\"file://_static/img/tutorials/IQL_torchrl_adroit_pen_example_3.gif\" width=\"32%\" alt=\"Example episode 3 for Adroit Pen environment\">\n\nThe performance varies quite a bit from episode to episode, but overall it's decent considering there are only 25 demonstrations in the original dataset! To improve performance, you could try tuning the hyperparameters, such as the inverse temperature $\\beta$ and the expectile $\\tau$, or use a larger dataset such as `D4RL/pen/expert-v1` which has around 5000 episodes.\n\n"
      ]
    }
  ],
  "metadata": {
    "kernelspec": {
      "display_name": "Python 3",
      "language": "python",
      "name": "python3"
    },
    "language_info": {
      "codemirror_mode": {
        "name": "ipython",
        "version": 3
      },
      "file_extension": ".py",
      "mimetype": "text/x-python",
      "name": "python",
      "nbconvert_exporter": "python",
      "pygments_lexer": "ipython3",
      "version": "3.9.21"
    }
  },
  "nbformat": 4,
  "nbformat_minor": 0
}