{
  "cells": [
    {
      "cell_type": "code",
      "execution_count": null,
      "metadata": {
        "collapsed": false
      },
      "outputs": [],
      "source": [
        "%matplotlib inline"
      ]
    },
    {
      "cell_type": "markdown",
      "metadata": {},
      "source": [
        "\n# Serializing a custom space\n"
      ]
    },
    {
      "cell_type": "markdown",
      "metadata": {},
      "source": [
        "In this tutorial you'll learn how to serialize a custom Gymnasium observation space and use that\nto create a Minari dataset with :class:`minari.DataCollector`. We'll use the\n[MiniGrid Empty](https://minigrid.farama.org/environments/minigrid/EmptyEnv/) environment and\nshow how to serialize its unique observation space.\n\nSerializing a custom space can be applied to both observation and action spaces.\n\nLet's start by installing the minigrid library:\n\n``pip install minigrid``\n\n"
      ]
    },
    {
      "cell_type": "markdown",
      "metadata": {},
      "source": [
        "Then we can import the required modules:\n\n"
      ]
    },
    {
      "cell_type": "code",
      "execution_count": null,
      "metadata": {
        "collapsed": false
      },
      "outputs": [],
      "source": [
        "import json\nfrom typing import Dict, Union\n\nimport gymnasium as gym\nfrom minigrid.core.mission import MissionSpace\n\nimport minari\nfrom minari import DataCollector\nfrom minari.serialization import deserialize_space, serialize_space"
      ]
    },
    {
      "cell_type": "markdown",
      "metadata": {},
      "source": [
        "First we'll initialize the MiniGrid Empty environment and take a look at its observation and action space.\n\n"
      ]
    },
    {
      "cell_type": "code",
      "execution_count": null,
      "metadata": {
        "collapsed": false
      },
      "outputs": [],
      "source": [
        "env = gym.make(\"MiniGrid-Empty-16x16-v0\")\n\nprint(f\"Observation space: {env.observation_space}\")\nprint(f\"Action space: {env.action_space}\")"
      ]
    },
    {
      "cell_type": "markdown",
      "metadata": {},
      "source": [
        "We can see the output from above looks like:\n\n  Observation space: Dict('direction': Discrete(4), 'image': Box(0, 255, (7, 7, 3), uint8), 'mission': MissionSpace(<function EmptyEnv._gen_mission at 0x12253a940>, None))\n\n  Action space: Discrete(7)\n\nIf we take a look at Minari's [serialization functions](https://github.com/Farama-Foundation/Minari/blob/main/minari/serialization.py#L13)\nwe can see that ``Dict``, ``Discrete``, and ``Box`` are all supported. However ``MissionSpace`` is not\nsupported and if try to serialize it with:\n\n serialize_space(env.observation_space['mission'])\n\nThen we will encounter a ``NotImplementedError`` error:\n\n  NotImplementedError: No serialization method available for MissionSpace(<function EmptyEnv._gen_mission at 0x12253a940>, None)\n\nBut what is ``MissonSpace``? If we look at the [source code](https://github.com/Farama-Foundation/Minigrid/blob/master/minigrid/core/mission.py#L14)\nwe can see that it is simply a wrapper around a ``Callable`` that returns a randomly generated\nstring representing the environment's mission. Let's sample from the mission space to see an example:\n\n"
      ]
    },
    {
      "cell_type": "code",
      "execution_count": null,
      "metadata": {
        "collapsed": false
      },
      "outputs": [],
      "source": [
        "env.observation_space['mission'].sample()"
      ]
    },
    {
      "cell_type": "markdown",
      "metadata": {},
      "source": [
        "This will print out:\n\n  'get to the green goal square'\n\nFor this particular environment we don't have to worry about the mission string varying from sample to sample.\n\nNow that we have a custom observation space we need to define functions that\nproperly serialize and deserialize it.\n\nWhen creating a Minari dataset, the space data gets [serialized](https://minari.farama.org/content/dataset_standards/#space-serialization)\nto a JSON format before saving to disk. The [serialize_space](https://github.com/Farama-Foundation/Minari/blob/main/minari/serialization.py#L13C5-L13C20)\nfunction takes care of this conversion for various supported Gymnasium spaces. To enable serialization\nfor a custom space we can register 2 new functions that will serialize the space into a JSON object\nand also deserialize it back into the custom space.\n\n"
      ]
    },
    {
      "cell_type": "code",
      "execution_count": null,
      "metadata": {
        "collapsed": false
      },
      "outputs": [],
      "source": [
        "@serialize_space.register(MissionSpace)\ndef serialize_custom_space(space: MissionSpace, to_string=True) -> Union[Dict, str]:\n    result = {}\n    result[\"type\"] = \"MissionSpace\"\n    result[\"mission_func\"] = space.mission_func()\n\n    if to_string:\n        result = json.dumps(result)\n    return result\n\n\n@deserialize_space.register(\"MissionSpace\")\ndef deserialize_custom_space(space_dict: Dict) -> MissionSpace:\n    assert space_dict[\"type\"] == \"MissionSpace\"\n    mission_func = lambda: space_dict[\"mission_func\"]  # noqa: E731\n\n    return MissionSpace(\n        mission_func=mission_func\n    )"
      ]
    },
    {
      "cell_type": "markdown",
      "metadata": {},
      "source": [
        "Now that we have serialization functions for ``MissionSpace`` we can collect some episode data.\n\n"
      ]
    },
    {
      "cell_type": "code",
      "execution_count": null,
      "metadata": {
        "collapsed": false
      },
      "outputs": [],
      "source": [
        "dataset_id = \"minigrid/custom-space-v0\"\n\nenv = DataCollector(env)\nnum_episodes = 10\n\nenv.reset(seed=42)\n\nfor episode in range(num_episodes):\n    terminated = False\n    truncated = False\n    while not terminated and not truncated:\n        action = env.action_space.sample()  # Choose random actions\n        _, _, terminated, truncated, _ = env.step(action)\n    env.reset()"
      ]
    },
    {
      "cell_type": "markdown",
      "metadata": {},
      "source": [
        "Finally we can create a Minari dataset.\n\n"
      ]
    },
    {
      "cell_type": "code",
      "execution_count": null,
      "metadata": {
        "collapsed": false
      },
      "outputs": [],
      "source": [
        "dataset = env.create_dataset(\n    dataset_id=dataset_id,\n    algorithm_name=\"random_policy\",\n    author=\"Farama\",\n    author_email=\"contact@farama.org\",\n    code_permalink=\"https://github.com/Farama-Foundation/Minari/blob/main/docs/tutorials/dataset_creation/custom_space_serialization.py\"\n)"
      ]
    },
    {
      "cell_type": "markdown",
      "metadata": {},
      "source": [
        "To show that the custom space was properly serialized we\ncan load the dataset we just created and take a look at\nthe observation space.\n\n"
      ]
    },
    {
      "cell_type": "code",
      "execution_count": null,
      "metadata": {
        "collapsed": false
      },
      "outputs": [],
      "source": [
        "del dataset\ndataset = minari.load_dataset(dataset_id)\n\nprint(dataset.spec.observation_space)"
      ]
    },
    {
      "cell_type": "markdown",
      "metadata": {},
      "source": [
        "The output should show the original observation space from earlier\nexcept with a different ``MissionSpace`` function name since\nwe created it inside ``deserialize_custom_space``:\n\n Dict('direction': Discrete(4), 'image': Box(0, 255, (7, 7, 3), uint8), 'mission': MissionSpace(<function deserialize_custom_space.<locals>.<lambda> at 0x11f2608b0>, None))\n\nFinally to clean things up, we'll delete the dataset we created earlier:\n\n"
      ]
    },
    {
      "cell_type": "code",
      "execution_count": null,
      "metadata": {
        "collapsed": false
      },
      "outputs": [],
      "source": [
        "minari.delete_dataset(dataset_id)"
      ]
    }
  ],
  "metadata": {
    "kernelspec": {
      "display_name": "Python 3",
      "language": "python",
      "name": "python3"
    },
    "language_info": {
      "codemirror_mode": {
        "name": "ipython",
        "version": 3
      },
      "file_extension": ".py",
      "mimetype": "text/x-python",
      "name": "python",
      "nbconvert_exporter": "python",
      "pygments_lexer": "ipython3",
      "version": "3.9.21"
    }
  },
  "nbformat": 4,
  "nbformat_minor": 0
}